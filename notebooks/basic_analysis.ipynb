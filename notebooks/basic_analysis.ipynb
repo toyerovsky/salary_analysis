{
 "cells": [
  {
   "cell_type": "code",
   "execution_count": 13,
   "metadata": {
    "collapsed": true
   },
   "outputs": [
    {
     "data": {
      "text/plain": "             BasePay    OvertimePay       OtherPay       Benefits  \\\ncount  111881.000000  111881.000000  111881.000000  111881.000000   \nmean    67208.464335    5266.537354    3655.130550   25114.682525   \nstd     43417.695515   11764.757612    8038.765165   15372.746237   \nmin      -166.010000      -0.010000       0.000000     -13.800000   \n25%     33644.660156       0.000000       0.000000   12145.089844   \n50%     65547.040000       0.000000     820.840000   28698.490234   \n75%     95229.030000    4865.720000    4307.970215   35608.770000   \nmax    319275.010000  220909.480000  342802.630000   96570.660000   \n\n            TotalPay  \ncount  111881.000000  \nmean    76130.132232  \nstd     51269.839386  \nmin         0.000000  \n25%     37041.430000  \n50%     72630.700000  \n75%    107533.480000  \nmax    471952.640000  ",
      "text/html": "<div>\n<style scoped>\n    .dataframe tbody tr th:only-of-type {\n        vertical-align: middle;\n    }\n\n    .dataframe tbody tr th {\n        vertical-align: top;\n    }\n\n    .dataframe thead th {\n        text-align: right;\n    }\n</style>\n<table border=\"1\" class=\"dataframe\">\n  <thead>\n    <tr style=\"text-align: right;\">\n      <th></th>\n      <th>BasePay</th>\n      <th>OvertimePay</th>\n      <th>OtherPay</th>\n      <th>Benefits</th>\n      <th>TotalPay</th>\n    </tr>\n  </thead>\n  <tbody>\n    <tr>\n      <th>count</th>\n      <td>111881.000000</td>\n      <td>111881.000000</td>\n      <td>111881.000000</td>\n      <td>111881.000000</td>\n      <td>111881.000000</td>\n    </tr>\n    <tr>\n      <th>mean</th>\n      <td>67208.464335</td>\n      <td>5266.537354</td>\n      <td>3655.130550</td>\n      <td>25114.682525</td>\n      <td>76130.132232</td>\n    </tr>\n    <tr>\n      <th>std</th>\n      <td>43417.695515</td>\n      <td>11764.757612</td>\n      <td>8038.765165</td>\n      <td>15372.746237</td>\n      <td>51269.839386</td>\n    </tr>\n    <tr>\n      <th>min</th>\n      <td>-166.010000</td>\n      <td>-0.010000</td>\n      <td>0.000000</td>\n      <td>-13.800000</td>\n      <td>0.000000</td>\n    </tr>\n    <tr>\n      <th>25%</th>\n      <td>33644.660156</td>\n      <td>0.000000</td>\n      <td>0.000000</td>\n      <td>12145.089844</td>\n      <td>37041.430000</td>\n    </tr>\n    <tr>\n      <th>50%</th>\n      <td>65547.040000</td>\n      <td>0.000000</td>\n      <td>820.840000</td>\n      <td>28698.490234</td>\n      <td>72630.700000</td>\n    </tr>\n    <tr>\n      <th>75%</th>\n      <td>95229.030000</td>\n      <td>4865.720000</td>\n      <td>4307.970215</td>\n      <td>35608.770000</td>\n      <td>107533.480000</td>\n    </tr>\n    <tr>\n      <th>max</th>\n      <td>319275.010000</td>\n      <td>220909.480000</td>\n      <td>342802.630000</td>\n      <td>96570.660000</td>\n      <td>471952.640000</td>\n    </tr>\n  </tbody>\n</table>\n</div>"
     },
     "execution_count": 13,
     "metadata": {},
     "output_type": "execute_result"
    }
   ],
   "source": [
    "import pandas as pd\n",
    "\n",
    "df = pd.DataFrame(pd.read_csv('../data/SanFrancisco_salary_dirty.csv'),\n",
    "                  columns=['JobTitle', 'Department', 'BasePay', 'OvertimePay', 'OtherPay', 'Benefits', 'TotalPay'])\n",
    "\n",
    "df.describe()"
   ]
  },
  {
   "cell_type": "code",
   "execution_count": 83,
   "outputs": [
    {
     "data": {
      "text/plain": "             BasePay    OvertimePay       OtherPay       Benefits  \\\ncount  111879.000000  111879.000000  111879.000000  111879.000000   \nmean    85482.970594    5266.631501    3655.092817   25114.873611   \nstd     29265.204602   11764.841695    8038.812208   15372.695982   \nmin     32640.300000       0.000000       0.000000       0.000000   \n25%     65400.405000       0.000000       0.000000   12145.370117   \n50%     82697.748853       0.000000     820.790000   28698.490234   \n75%     95229.030000    4865.870000    4307.550049   35608.775000   \nmax    319275.010000  220909.480000  342802.630000   96570.660000   \n\n            TotalPay  \ncount  111879.000000  \nmean   119519.568523  \nstd     46195.387337  \nmin     33044.390000  \n25%     86032.293025  \n50%    103694.440000  \n75%    143171.180000  \nmax    510732.680000  ",
      "text/html": "<div>\n<style scoped>\n    .dataframe tbody tr th:only-of-type {\n        vertical-align: middle;\n    }\n\n    .dataframe tbody tr th {\n        vertical-align: top;\n    }\n\n    .dataframe thead th {\n        text-align: right;\n    }\n</style>\n<table border=\"1\" class=\"dataframe\">\n  <thead>\n    <tr style=\"text-align: right;\">\n      <th></th>\n      <th>BasePay</th>\n      <th>OvertimePay</th>\n      <th>OtherPay</th>\n      <th>Benefits</th>\n      <th>TotalPay</th>\n    </tr>\n  </thead>\n  <tbody>\n    <tr>\n      <th>count</th>\n      <td>111879.000000</td>\n      <td>111879.000000</td>\n      <td>111879.000000</td>\n      <td>111879.000000</td>\n      <td>111879.000000</td>\n    </tr>\n    <tr>\n      <th>mean</th>\n      <td>85482.970594</td>\n      <td>5266.631501</td>\n      <td>3655.092817</td>\n      <td>25114.873611</td>\n      <td>119519.568523</td>\n    </tr>\n    <tr>\n      <th>std</th>\n      <td>29265.204602</td>\n      <td>11764.841695</td>\n      <td>8038.812208</td>\n      <td>15372.695982</td>\n      <td>46195.387337</td>\n    </tr>\n    <tr>\n      <th>min</th>\n      <td>32640.300000</td>\n      <td>0.000000</td>\n      <td>0.000000</td>\n      <td>0.000000</td>\n      <td>33044.390000</td>\n    </tr>\n    <tr>\n      <th>25%</th>\n      <td>65400.405000</td>\n      <td>0.000000</td>\n      <td>0.000000</td>\n      <td>12145.370117</td>\n      <td>86032.293025</td>\n    </tr>\n    <tr>\n      <th>50%</th>\n      <td>82697.748853</td>\n      <td>0.000000</td>\n      <td>820.790000</td>\n      <td>28698.490234</td>\n      <td>103694.440000</td>\n    </tr>\n    <tr>\n      <th>75%</th>\n      <td>95229.030000</td>\n      <td>4865.870000</td>\n      <td>4307.550049</td>\n      <td>35608.775000</td>\n      <td>143171.180000</td>\n    </tr>\n    <tr>\n      <th>max</th>\n      <td>319275.010000</td>\n      <td>220909.480000</td>\n      <td>342802.630000</td>\n      <td>96570.660000</td>\n      <td>510732.680000</td>\n    </tr>\n  </tbody>\n</table>\n</div>"
     },
     "execution_count": 83,
     "metadata": {},
     "output_type": "execute_result"
    }
   ],
   "source": [
    "df = pd.DataFrame(pd.read_csv('../data/SanFrancisco_salary_dirty.csv', delimiter=','),\n",
    "                  columns=['JobTitle', 'Department', 'BasePay', 'OvertimePay', 'OtherPay', 'Benefits', 'TotalPay'])\n",
    "\n",
    "\n",
    "df[df.OvertimePay < 0] = 0\n",
    "df[df.Benefits < 0] = 0\n",
    "df = df[df.Department != 0]\n",
    "\n",
    "all_depts = df['Department'].unique()\n",
    "for dept in all_depts:\n",
    "    dept_mean = df[(df.Department == dept) & (df.BasePay >= 12 * 2720)]['BasePay'].mean()\n",
    "    df.loc[(df.Department == dept) & (df.BasePay < 12 * 2720), 'BasePay'] = dept_mean\n",
    "\n",
    "df['TotalPay'] = df.apply(lambda row: row['BasePay'] + row['OvertimePay'] + row['OtherPay'] + row['Benefits'], axis=1)\n",
    "\n",
    "df.to_csv('../data/SanFrancisco_salary_clean.csv')\n",
    "df.describe()\n"
   ],
   "metadata": {
    "collapsed": false
   }
  },
  {
   "cell_type": "code",
   "execution_count": null,
   "outputs": [],
   "source": [],
   "metadata": {
    "collapsed": false
   }
  }
 ],
 "metadata": {
  "kernelspec": {
   "display_name": "Python 3",
   "language": "python",
   "name": "python3"
  },
  "language_info": {
   "codemirror_mode": {
    "name": "ipython",
    "version": 2
   },
   "file_extension": ".py",
   "mimetype": "text/x-python",
   "name": "python",
   "nbconvert_exporter": "python",
   "pygments_lexer": "ipython2",
   "version": "2.7.6"
  }
 },
 "nbformat": 4,
 "nbformat_minor": 0
}
