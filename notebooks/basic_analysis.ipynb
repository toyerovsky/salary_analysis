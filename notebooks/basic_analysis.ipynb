{
 "cells": [
  {
   "cell_type": "code",
   "execution_count": 1,
   "metadata": {
    "collapsed": true
   },
   "outputs": [
    {
     "data": {
      "text/plain": "   Unnamed: 0     Id        EmployeeName                      JobTitle  \\\n0       36159  36160      Gary Altenberg  Lieutenant, Fire Suppression   \n1       36160  36161        Gregory Suhr               Chief of Police   \n2       36161  36162          Khoa Trinh   Electronic Maintenance Tech   \n3       36162  36163  Joanne Hayes-White        Chief, Fire Department   \n4       36163  36164   Frederick Binkley     EMT/Paramedic/Firefighter   \n\n     BasePay  OvertimePay  OtherPay  Benefits   TotalPay  TotalPayBenefits  \\\n0  128808.87    220909.48  13126.31  44430.12  362844.66         407274.78   \n1  302578.00         0.00  18974.11  69810.19  321552.11         391362.30   \n2  111921.00    146415.32  78057.41  53102.29  336393.73         389496.02   \n3  296943.01         0.00  17816.59  72047.88  314759.60         386807.48   \n4  126863.19    192424.49  17917.18  44438.25  337204.86         381643.11   \n\n   Year Department  Department_ML  \n0  2012       Fire              4  \n1  2012      Other              2  \n2  2012    Not dep              5  \n3  2012      Other              2  \n4  2012      Other              2  ",
      "text/html": "<div>\n<style scoped>\n    .dataframe tbody tr th:only-of-type {\n        vertical-align: middle;\n    }\n\n    .dataframe tbody tr th {\n        vertical-align: top;\n    }\n\n    .dataframe thead th {\n        text-align: right;\n    }\n</style>\n<table border=\"1\" class=\"dataframe\">\n  <thead>\n    <tr style=\"text-align: right;\">\n      <th></th>\n      <th>Unnamed: 0</th>\n      <th>Id</th>\n      <th>EmployeeName</th>\n      <th>JobTitle</th>\n      <th>BasePay</th>\n      <th>OvertimePay</th>\n      <th>OtherPay</th>\n      <th>Benefits</th>\n      <th>TotalPay</th>\n      <th>TotalPayBenefits</th>\n      <th>Year</th>\n      <th>Department</th>\n      <th>Department_ML</th>\n    </tr>\n  </thead>\n  <tbody>\n    <tr>\n      <th>0</th>\n      <td>36159</td>\n      <td>36160</td>\n      <td>Gary Altenberg</td>\n      <td>Lieutenant, Fire Suppression</td>\n      <td>128808.87</td>\n      <td>220909.48</td>\n      <td>13126.31</td>\n      <td>44430.12</td>\n      <td>362844.66</td>\n      <td>407274.78</td>\n      <td>2012</td>\n      <td>Fire</td>\n      <td>4</td>\n    </tr>\n    <tr>\n      <th>1</th>\n      <td>36160</td>\n      <td>36161</td>\n      <td>Gregory Suhr</td>\n      <td>Chief of Police</td>\n      <td>302578.00</td>\n      <td>0.00</td>\n      <td>18974.11</td>\n      <td>69810.19</td>\n      <td>321552.11</td>\n      <td>391362.30</td>\n      <td>2012</td>\n      <td>Other</td>\n      <td>2</td>\n    </tr>\n    <tr>\n      <th>2</th>\n      <td>36161</td>\n      <td>36162</td>\n      <td>Khoa Trinh</td>\n      <td>Electronic Maintenance Tech</td>\n      <td>111921.00</td>\n      <td>146415.32</td>\n      <td>78057.41</td>\n      <td>53102.29</td>\n      <td>336393.73</td>\n      <td>389496.02</td>\n      <td>2012</td>\n      <td>Not dep</td>\n      <td>5</td>\n    </tr>\n    <tr>\n      <th>3</th>\n      <td>36162</td>\n      <td>36163</td>\n      <td>Joanne Hayes-White</td>\n      <td>Chief, Fire Department</td>\n      <td>296943.01</td>\n      <td>0.00</td>\n      <td>17816.59</td>\n      <td>72047.88</td>\n      <td>314759.60</td>\n      <td>386807.48</td>\n      <td>2012</td>\n      <td>Other</td>\n      <td>2</td>\n    </tr>\n    <tr>\n      <th>4</th>\n      <td>36163</td>\n      <td>36164</td>\n      <td>Frederick Binkley</td>\n      <td>EMT/Paramedic/Firefighter</td>\n      <td>126863.19</td>\n      <td>192424.49</td>\n      <td>17917.18</td>\n      <td>44438.25</td>\n      <td>337204.86</td>\n      <td>381643.11</td>\n      <td>2012</td>\n      <td>Other</td>\n      <td>2</td>\n    </tr>\n  </tbody>\n</table>\n</div>"
     },
     "execution_count": 1,
     "metadata": {},
     "output_type": "execute_result"
    }
   ],
   "source": [
    "import pandas as pd\n",
    "\n",
    "df = pd.DataFrame(pd.read_csv('../data/SanFrancisco_salary.csv'))\n",
    "\n",
    "df.head()"
   ]
  },
  {
   "cell_type": "code",
   "execution_count": null,
   "outputs": [],
   "source": [],
   "metadata": {
    "collapsed": false
   }
  }
 ],
 "metadata": {
  "kernelspec": {
   "display_name": "Python 3",
   "language": "python",
   "name": "python3"
  },
  "language_info": {
   "codemirror_mode": {
    "name": "ipython",
    "version": 2
   },
   "file_extension": ".py",
   "mimetype": "text/x-python",
   "name": "python",
   "nbconvert_exporter": "python",
   "pygments_lexer": "ipython2",
   "version": "2.7.6"
  }
 },
 "nbformat": 4,
 "nbformat_minor": 0
}
